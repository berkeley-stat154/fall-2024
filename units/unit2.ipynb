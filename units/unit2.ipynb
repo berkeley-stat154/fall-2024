{
 "cells": [
  {
   "cell_type": "raw",
   "id": "b95ff0a0",
   "metadata": {},
   "source": [
    "---\n",
    "title: \"Unit 2: Next\"\n",
    "format:\n",
    "  html:\n",
    "    code-fold: true\n",
    "    theme: cosmo\n",
    "    css: ../styles.css\n",
    "    toc: true\n",
    "    code-copy: true\n",
    "    code-block-background: true\n",
    "---"
   ]
  },
  {
   "cell_type": "markdown",
   "id": "e3e3f5ef",
   "metadata": {},
   "source": [
    "[UNDER CONSTRUCTION]\n",
    "\n",
    "This is an example of using an ipynb file as source rather than qmd.\n",
    "It follows instructions from https://github.com/DS-100/course-notes/README.md.\n",
    "\n",
    "Link to the [data](/data).\n",
    "\n",
    "\n",
    "## $\\LaTeX$\n",
    "Here is some $\\LaTeX$.\n",
    "$$\n",
    "\\theta = 7\n",
    "$$\n",
    "\n",
    "## Evaluated Python code\n",
    "\n",
    "Note that to get code output shown, the underlying notebook must have executed the code."
   ]
  },
  {
   "cell_type": "code",
   "execution_count": 1,
   "id": "d80fd49e",
   "metadata": {},
   "outputs": [
    {
     "name": "stdout",
     "output_type": "stream",
     "text": [
      "7\n"
     ]
    }
   ],
   "source": [
    "a=7\n",
    "print(a)"
   ]
  },
  {
   "cell_type": "markdown",
   "id": "2c971039",
   "metadata": {},
   "source": [
    "## Callout\n",
    "\n",
    "::: {.callout-tip}\n",
    "## Tip with Title\n",
    "\n",
    "This is an example of a callout with a title.\n",
    ":::\n"
   ]
  }
 ],
 "metadata": {
  "kernelspec": {
   "display_name": "Python 3 (ipykernel)",
   "language": "python",
   "name": "python3"
  },
  "language_info": {
   "codemirror_mode": {
    "name": "ipython",
    "version": 3
   },
   "file_extension": ".py",
   "mimetype": "text/x-python",
   "name": "python",
   "nbconvert_exporter": "python",
   "pygments_lexer": "ipython3",
   "version": "3.12.2"
  }
 },
 "nbformat": 4,
 "nbformat_minor": 5
}
